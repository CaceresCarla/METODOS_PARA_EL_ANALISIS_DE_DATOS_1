{
 "cells": [
  {
   "cell_type": "code",
   "execution_count": 17,
   "id": "ff1fc12a",
   "metadata": {},
   "outputs": [],
   "source": [
    "import pandas as pd\n",
    "import os\n",
    "import re\n"
   ]
  },
  {
   "cell_type": "code",
   "execution_count": 18,
   "id": "0a592cf4",
   "metadata": {},
   "outputs": [],
   "source": [
    "\n",
    "\n",
    "#armo una lista con todos los excel (todas las comisiones)\n",
    "os.chdir(r\"c:\\Users\\carli\\Desktop\\Metodos\")\n",
    "archivos=[]\n",
    "for i in range(1,5):\n",
    "    archivos_en_carpeta=os.listdir(f\"Actividades de Seguimiento/Actividad de Seguimiento {i}\")\n",
    "    for archivo in archivos_en_carpeta:\n",
    "        if archivo.endswith(\".xlsx\"):\n",
    "            archivos.append(f\"Actividades de Seguimiento/Actividad de Seguimiento {i}/{archivo}\")\n",
    "            \n"
   ]
  },
  {
   "cell_type": "code",
   "execution_count": 19,
   "id": "55efb572",
   "metadata": {},
   "outputs": [
    {
     "name": "stdout",
     "output_type": "stream",
     "text": [
      "<bound method DataFrame.info of            Apellido(s)          Nombre  Número de ID  \\\n",
      "0              AGUILAR  LUDMILA JAZMIN    46261780.0   \n",
      "1                JOFRE  DAIANA ABIGAIL    39163210.0   \n",
      "2        ACOSTA LEPPEZ  MICAELA ROSANA    47198769.0   \n",
      "3                Piriz            Alma    47638017.0   \n",
      "4              GIMENEZ         DIAMELA    47743920.0   \n",
      "..                 ...             ...           ...   \n",
      "126              NUÑEZ   GONZALO YARIF    46387233.0   \n",
      "127           TEJERINA    WALTER DAVID    46261544.0   \n",
      "128  CATRILEU SANDOVAL   SOFIA ALUMINÉ    47913658.0   \n",
      "129            ATENCIO          SILVIO    46870768.0   \n",
      "130   Promedio general             NaN           NaN   \n",
      "\n",
      "                Dirección de correo Departamento   Institución      Estado  \\\n",
      "0       aguilarludmila181@gmail.com          NaN           NaN  Finalizado   \n",
      "1            abilujofre23@gmail.com          NaN           NaN  Finalizado   \n",
      "2     acostaleppezmicaela@gmail.com          NaN           NaN  Finalizado   \n",
      "3             almapiriz06@gmail.com          NaN  Ciclo Basico  Finalizado   \n",
      "4      diamelagimenez2007@gmail.com          NaN           NaN  Finalizado   \n",
      "..                              ...          ...           ...         ...   \n",
      "126           ngonzalo749@gmail.com          NaN           NaN  Finalizado   \n",
      "127       davydtejerina12@gmail.com          NaN           NaN  Finalizado   \n",
      "128  sofiaaluminecatrileu@gmail.com          NaN           NaN  Finalizado   \n",
      "129     ezequielatencio27@gmail.com          NaN           NaN  Finalizado   \n",
      "130                             NaN          NaN           NaN         NaN   \n",
      "\n",
      "                    Comenzado el                   Finalizado  \\\n",
      "0    8 de febrero de 2025  10:01  8 de febrero de 2025  11:15   \n",
      "1    8 de febrero de 2025  10:01  8 de febrero de 2025  11:11   \n",
      "2    8 de febrero de 2025  10:02  8 de febrero de 2025  11:32   \n",
      "3    8 de febrero de 2025  10:06  8 de febrero de 2025  11:29   \n",
      "4    8 de febrero de 2025  10:08  8 de febrero de 2025  11:15   \n",
      "..                           ...                          ...   \n",
      "126  8 de febrero de 2025  19:44  8 de febrero de 2025  20:16   \n",
      "127  8 de febrero de 2025  20:20  8 de febrero de 2025  20:32   \n",
      "128  8 de febrero de 2025  20:28  8 de febrero de 2025  20:34   \n",
      "129  8 de febrero de 2025  21:16  8 de febrero de 2025  21:39   \n",
      "130                          NaN                          NaN   \n",
      "\n",
      "           Tiempo requerido Calificación/10,00 P. 1 /0,75 P. 2 /0,75  \\\n",
      "0         1 hora 13 minutos               8,00       0,75       0,75   \n",
      "1         1 hora 10 minutos               0,50       0,00       0,00   \n",
      "2         1 hora 30 minutos               2,67       0,00       0,00   \n",
      "3         1 hora 22 minutos               6,42       0,75       0,00   \n",
      "4          1 hora 6 minutos               7,67       0,00       0,00   \n",
      "..                      ...                ...        ...        ...   \n",
      "126  31 minutos 17 segundos               6,17       0,75       0,75   \n",
      "127  11 minutos 16 segundos               0,50       0,00       0,00   \n",
      "128   5 minutos 46 segundos               6,83       0,75       0,75   \n",
      "129  23 minutos 24 segundos               6,25       0,75       0,00   \n",
      "130                     NaN               6,26       0,52       0,31   \n",
      "\n",
      "    P. 3 /0,50 P. 4 /0,50 P. 5 /1,00 P. 6 /1,00 P. 7 /1,50 P. 8 /2,00  \\\n",
      "0         0,00       0,00       0,00       1,00       1,50       2,00   \n",
      "1         0,50       0,00       0,00       0,00       0,00       0,00   \n",
      "2         0,50       0,00       0,67       0,00       1,50       0,00   \n",
      "3         0,50       0,50       0,67       0,00       0,00       2,00   \n",
      "4         0,50       0,00       0,67       1,00       1,50       2,00   \n",
      "..         ...        ...        ...        ...        ...        ...   \n",
      "126       0,50       0,50       0,67       1,00       0,00       2,00   \n",
      "127       0,50       0,00       0,00       0,00       0,00       0,00   \n",
      "128       0,50       0,00       0,33       1,00       1,50       0,00   \n",
      "129       0,50       0,00       0,00       1,00       0,00       2,00   \n",
      "130       0,43       0,16       0,53       0,75       0,90       1,18   \n",
      "\n",
      "    P. 9 /2,00  \n",
      "0         2,00  \n",
      "1         0,00  \n",
      "2         0,00  \n",
      "3         2,00  \n",
      "4         2,00  \n",
      "..         ...  \n",
      "126       0,00  \n",
      "127       0,00  \n",
      "128       2,00  \n",
      "129       2,00  \n",
      "130       1,46  \n",
      "\n",
      "[131 rows x 20 columns]>\n"
     ]
    }
   ],
   "source": [
    "df=pd.read_excel(archivos[0])\n",
    "print(df.info)"
   ]
  },
  {
   "cell_type": "code",
   "execution_count": 20,
   "id": "60f1295b",
   "metadata": {},
   "outputs": [
    {
     "name": "stdout",
     "output_type": "stream",
     "text": [
      "4326\n",
      "3981\n"
     ]
    }
   ],
   "source": [
    "df_anon=pd.read_excel(\"Actividades de Seguimiento/Ati_anonimo.xlsx\")\n",
    "print(len(df_anon))\n",
    "df_anon_unicos=df_anon.drop_duplicates(subset=['DNI','COMISION'],keep=False)\n",
    "print(len(df_anon_unicos))\n"
   ]
  },
  {
   "cell_type": "code",
   "execution_count": 25,
   "id": "e17b1e6a",
   "metadata": {},
   "outputs": [
    {
     "name": "stdout",
     "output_type": "stream",
     "text": [
      "No se encontró la comisión en el archivo: ATI 1 Fase 1 - Matemática - Tres Arroyos-2025 - ATI 1 - Fase 1 - Actividad de seguimiento 2 - Cursos M-calificaciones.xlsx\n",
      "No se encontró la comisión en el archivo: ATI 1 Fase 1 - Matemática - Tres Arroyos-2025 - ATI 1 - Fase 1 - Actividad de seguimiento 3 - Cursos M-calificaciones.xlsx\n",
      "No se encontró la comisión en el archivo: ATI 1 Fase 1 - Matemática - Tres Arroyos-2025 - ATI 1 - Fase 1 - Actividad de seguimiento 4 - Cursos M-calificaciones.xlsx\n",
      "        DNI COMISION ACTIVIDAD 1 ACTIVIDAD 2 ACTIVIDAD 3 ACTIVIDAD 4\n",
      "0  47279352      M27         7.5        10.0        10.0        10.0\n",
      "3  42626430       M4         NaN         NaN         NaN         NaN\n",
      "4  46944891      M24        7.75        10.0         9.0        5.75\n",
      "5  43463823       B9         NaN         NaN         NaN         NaN\n",
      "6  45577121       B2        8.92        9.63        10.0         NaN\n"
     ]
    }
   ],
   "source": [
    "df_nuevo=pd.DataFrame(columns=['DNI','COMISION','ACTIVIDAD 1','ACTIVIDAD 2','ACTIVIDAD 3','ACTIVIDAD 4'])\n",
    "df_nuevo[['DNI','COMISION']]=df_anon_unicos[['DNI','COMISION']]\n",
    "df_nuevo['DNI']=df_nuevo['DNI'].astype(int)\n",
    "df_nuevo['COMISION']=df_nuevo['COMISION'].astype(str)\n",
    "for seguimiento in range(1,5):\n",
    "    archivos_en_carpeta=os.listdir(f\"Actividades de Seguimiento/Actividad de Seguimiento {seguimiento}\")\n",
    "   \n",
    "    for archivo in archivos_en_carpeta:\n",
    "        if archivo.endswith('.xlsx'):\n",
    "            df_i_todo=pd.read_excel(f\"Actividades de Seguimiento/Actividad de Seguimiento {seguimiento}/{archivo}\")\n",
    "            if 'Calificación/10,00' in df_i_todo.columns:   \n",
    "                df_i = df_i_todo[['Número de ID','Calificación/10,00']]\n",
    "            else:\n",
    "                print(f\"archivo {archivo} no tiene la columna 'Calificación/10,00'\")\n",
    "            match=re.search(r'\\(([^)]+)\\)',archivo)\n",
    "            if match:\n",
    "                comision=match.group(1)\n",
    "                for index, row in df_i.iterrows():\n",
    "                    dni=row['Número de ID']\n",
    "                    calificacion=row['Calificación/10,00']\n",
    "                    valor=str(dni)\n",
    "                    match2=re.search(r'[a-zA-Z]', valor)\n",
    "                    if not match2:\n",
    "                        df_nuevo.loc[(df_nuevo['COMISION']==str(comision)) & (df_nuevo['DNI']==int(dni)), f'ACTIVIDAD {seguimiento}'] = float(str(calificacion).replace(',','.'))\n",
    "\n",
    "\n",
    "            \n",
    "        \n",
    "            else:\n",
    "                print(f\"No se encontró la comisión en el archivo: {archivo}\")\n",
    "\n",
    "print(df_nuevo.head())  \n",
    "\n",
    "df_nuevo.to_excel(\"ATI completo.xlsx\", index=False)"
   ]
  }
 ],
 "metadata": {
  "kernelspec": {
   "display_name": "Python 3",
   "language": "python",
   "name": "python3"
  },
  "language_info": {
   "codemirror_mode": {
    "name": "ipython",
    "version": 3
   },
   "file_extension": ".py",
   "mimetype": "text/x-python",
   "name": "python",
   "nbconvert_exporter": "python",
   "pygments_lexer": "ipython3",
   "version": "3.13.1"
  }
 },
 "nbformat": 4,
 "nbformat_minor": 5
}
