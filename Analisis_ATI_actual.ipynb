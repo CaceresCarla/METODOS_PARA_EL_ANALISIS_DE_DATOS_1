{
 "cells": [
  {
   "cell_type": "code",
   "execution_count": 6,
   "id": "ff1fc12a",
   "metadata": {},
   "outputs": [],
   "source": [
    "import pandas as pd\n",
    "import os\n",
    "import re\n"
   ]
  },
  {
   "cell_type": "code",
   "execution_count": 7,
   "id": "0a592cf4",
   "metadata": {},
   "outputs": [],
   "source": [
    "\n",
    "\n",
    "#armo una lista con todos los excel (todas las comisiones)\n",
    "os.chdir(r\"c:\\Users\\carli\\Desktop\\Metodos\")\n",
    "archivos=[]\n",
    "for i in range(1,5):\n",
    "    archivos_en_carpeta=os.listdir(f\"Actividades de Seguimiento/Actividad de Seguimiento {i}\")\n",
    "    for archivo in archivos_en_carpeta:\n",
    "        if archivo.endswith(\".xlsx\"):\n",
    "            archivos.append(f\"Actividades de Seguimiento/Actividad de Seguimiento {i}/{archivo}\")\n",
    "            \n"
   ]
  },
  {
   "cell_type": "code",
   "execution_count": null,
   "id": "55efb572",
   "metadata": {},
   "outputs": [],
   "source": [
    "df=pd.read_excel(archivos[0])\n",
    "print(df.info)"
   ]
  },
  {
   "cell_type": "code",
   "execution_count": 9,
   "id": "60f1295b",
   "metadata": {},
   "outputs": [
    {
     "name": "stdout",
     "output_type": "stream",
     "text": [
      "4326\n",
      "3981\n"
     ]
    }
   ],
   "source": [
    "df_anon=pd.read_excel(\"Actividades de Seguimiento/Ati_anonimo.xlsx\")\n",
    "print(len(df_anon))\n",
    "df_anon_unicos=df_anon.drop_duplicates(subset=['DNI','COMISION'],keep=False)\n",
    "print(len(df_anon_unicos))\n"
   ]
  },
  {
   "cell_type": "code",
   "execution_count": null,
   "id": "e17b1e6a",
   "metadata": {},
   "outputs": [],
   "source": [
    "df_nuevo=pd.DataFrame(columns=['DNI','COMISION','ACTIVIDAD 1','ACTIVIDAD 2','ACTIVIDAD 3','ACTIVIDAD 4'])\n",
    "df_nuevo[['DNI','COMISION']]=df_anon_unicos[['DNI','COMISION']]\n",
    "df_nuevo['DNI']=df_nuevo['DNI'].astype(int)\n",
    "df_nuevo['COMISION']=df_nuevo['COMISION'].astype(str)\n",
    "for seguimiento in range(1,5):\n",
    "    archivos_en_carpeta=os.listdir(f\"Actividades de Seguimiento/Actividad de Seguimiento {seguimiento}\")\n",
    "   \n",
    "    for archivo in archivos_en_carpeta:\n",
    "        if archivo.endswith('.xlsx'):\n",
    "            df_i_todo=pd.read_excel(f\"Actividades de Seguimiento/Actividad de Seguimiento {seguimiento}/{archivo}\")\n",
    "            if 'Calificación/10,00' in df_i_todo.columns:   \n",
    "                df_i = df_i_todo[['Número de ID','Calificación/10,00']]\n",
    "            else:\n",
    "                print(f\"archivo {archivo} no tiene la columna 'Calificación/10,00'\")\n",
    "            match=re.search(r'\\(([^)]+)\\)',archivo)\n",
    "            if match:\n",
    "                comision=match.group(1)\n",
    "                for index, row in df_i.iterrows():\n",
    "                    dni=row['Número de ID']\n",
    "                    calificacion=row['Calificación/10,00']\n",
    "                    valor=str(dni)\n",
    "                    match2=re.search(r'[a-zA-Z]', valor)\n",
    "                    if not match2:\n",
    "                        df_nuevo.loc[(df_nuevo['COMISION']==str(comision)) & (df_nuevo['DNI']==int(dni)), f'ACTIVIDAD {seguimiento}'] = float(str(calificacion).replace(',','.'))\n",
    "\n",
    "\n",
    "            \n",
    "        \n",
    "            else:\n",
    "                print(f\"No se encontró la comisión en el archivo: {archivo}\")\n",
    "\n",
    "print(df_nuevo.head())  \n",
    "\n",
    "df_nuevo.to_excel(\"ATI completo.xlsx\", index=False)"
   ]
  }
 ],
 "metadata": {
  "kernelspec": {
   "display_name": "Python 3",
   "language": "python",
   "name": "python3"
  },
  "language_info": {
   "codemirror_mode": {
    "name": "ipython",
    "version": 3
   },
   "file_extension": ".py",
   "mimetype": "text/x-python",
   "name": "python",
   "nbconvert_exporter": "python",
   "pygments_lexer": "ipython3",
   "version": "3.13.1"
  }
 },
 "nbformat": 4,
 "nbformat_minor": 5
}
