{
 "cells": [
  {
   "cell_type": "code",
   "execution_count": 9,
   "id": "ff1fc12a",
   "metadata": {},
   "outputs": [],
   "source": [
    "import pandas as pd\n",
    "import os\n",
    "import re\n"
   ]
  },
  {
   "cell_type": "code",
   "execution_count": null,
   "id": "0a592cf4",
   "metadata": {},
   "outputs": [
    {
     "name": "stdout",
     "output_type": "stream",
     "text": [
      "['Actividades de Seguimiento/Actividad de Seguimiento 1/2025-1 (B1) Matemática B - ATI 1 Fase 1-2025 - ATI 1 - Fase 1 - Actividad de seguimiento 1-calificaciones (1).xlsx', 'Actividades de Seguimiento/Actividad de Seguimiento 1/2025-1 (B2) Matemática B - ATI 1 Fase 1-2025 - ATI 1 - Fase 1 - Actividad de seguimiento 1-calificaciones.xlsx', 'Actividades de Seguimiento/Actividad de Seguimiento 1/2025-1 (B3) Matemática B - ATI 1 Fase 1-2025 - ATI 1 - Fase 1 - Actividad de seguimiento 1-calificaciones.xlsx', 'Actividades de Seguimiento/Actividad de Seguimiento 1/2025-1 (B4) Matemática B - ATI 1 Fase 1-2025 - ATI 1 - Fase 1 - Actividad de seguimiento 1-calificaciones.xlsx', 'Actividades de Seguimiento/Actividad de Seguimiento 1/2025-1 (B5) Matemática B - ATI 1 Fase 1-2025 - ATI 1 - Fase 1 - Actividad de seguimiento 1-calificaciones.xlsx', 'Actividades de Seguimiento/Actividad de Seguimiento 1/2025-1 (B6) Matemática B - ATI 1 Fase 1-2025 - ATI 1 - Fase 1 - Actividad de seguimiento 1-calificaciones.xlsx', 'Actividades de Seguimiento/Actividad de Seguimiento 1/2025-1 (B7) Matemática B - ATI 1 Fase 1-2025 - ATI 1 - Fase 1 - Actividad de seguimiento 1-calificaciones.xlsx', 'Actividades de Seguimiento/Actividad de Seguimiento 1/2025-1 (B8) Matemática B - ATI 1 Fase 1-2025 - ATI 1 - Fase 1 - Actividad de seguimiento 1-calificaciones.xlsx', 'Actividades de Seguimiento/Actividad de Seguimiento 1/2025-1 (B9) Matemática B - ATI 1 Fase 1-2025 - ATI 1 - Fase 1 - Actividad de seguimiento 1-calificaciones.xlsx', 'Actividades de Seguimiento/Actividad de Seguimiento 1/2025-1 (M1) Matemática - ATI 1 Fase 1-2025 - ATI 1 - Fase 1 - Actividad de seguimiento 1-calificaciones.xlsx', 'Actividades de Seguimiento/Actividad de Seguimiento 1/2025-1 (M10) Matemática - ATI 1 Fase 1-2025 - ATI 1 - Fase 1 - Actividad de seguimiento 1-calificaciones.xlsx', 'Actividades de Seguimiento/Actividad de Seguimiento 1/2025-1 (M11) Matemática - ATI 1 Fase 1-2025 - ATI 1 - Fase 1 - Actividad de seguimiento 1-calificaciones.xlsx', 'Actividades de Seguimiento/Actividad de Seguimiento 1/2025-1 (M12) Matemática - ATI 1 Fase 1-2025 - ATI 1 - Fase 1 - Actividad de seguimiento 1-calificaciones.xlsx', 'Actividades de Seguimiento/Actividad de Seguimiento 1/2025-1 (M16) Matemática - ATI 1 Fase 1-2025 - ATI 1 - Fase 1 - Actividad de seguimiento 1-calificaciones.xlsx', 'Actividades de Seguimiento/Actividad de Seguimiento 1/2025-1 (M17) Matemática - ATI 1 Fase 1-2025 - ATI 1 - Fase 1 - Actividad de seguimiento 1-calificaciones.xlsx', 'Actividades de Seguimiento/Actividad de Seguimiento 1/2025-1 (M2) Matemática - ATI 1 Fase 1-2025 - ATI 1 - Fase 1 - Actividad de seguimiento 1-calificaciones.xlsx', 'Actividades de Seguimiento/Actividad de Seguimiento 1/2025-1 (M21) Matemática - ATI 1 Fase 1-2025 - ATI 1 - Fase 1 - Actividad de seguimiento 1-calificaciones.xlsx', 'Actividades de Seguimiento/Actividad de Seguimiento 1/2025-1 (M22) Matemática - ATI 1 Fase 1-2025 - ATI 1 - Fase 1 - Actividad de seguimiento 1-calificaciones.xlsx', 'Actividades de Seguimiento/Actividad de Seguimiento 1/2025-1 (M23) Matemática - ATI 1 Fase 1-2025 - ATI 1 - Fase 1 - Actividad de seguimiento 1-calificaciones.xlsx', 'Actividades de Seguimiento/Actividad de Seguimiento 1/2025-1 (M24) Matemática - ATI 1 Fase 1-2025 - ATI 1 - Fase 1 - Actividad de seguimiento 1-calificaciones.xlsx', 'Actividades de Seguimiento/Actividad de Seguimiento 1/2025-1 (M26) Matemática - ATI 1 Fase 1-2025 - ATI 1 - Fase 1 - Actividad de seguimiento 1-calificaciones.xlsx', 'Actividades de Seguimiento/Actividad de Seguimiento 1/2025-1 (M27) Matemática - ATI 1 Fase 1-2025 - ATI 1 - Fase 1 - Actividad de seguimiento 1-calificaciones.xlsx', 'Actividades de Seguimiento/Actividad de Seguimiento 1/2025-1 (M3) Matemática - ATI 1 Fase 1-2025 - ATI 1 - Fase 1 - Actividad de seguimiento 1-calificaciones.xlsx', 'Actividades de Seguimiento/Actividad de Seguimiento 1/2025-1 (M4) Matemática - ATI 1 Fase 1-2025 - ATI 1 - Fase 1 - Actividad de seguimiento 1-calificaciones.xlsx', 'Actividades de Seguimiento/Actividad de Seguimiento 1/2025-1 (M8) Matemática - ATI 1 Fase 1-2025 - ATI 1 - Fase 1 - Actividad de seguimiento 1-calificaciones.xlsx', 'Actividades de Seguimiento/Actividad de Seguimiento 1/2025-1 (M9) Matemática - ATI 1 Fase 1-2025 - ATI 1 - Fase 1 - Actividad de seguimiento 1-calificaciones.xlsx', 'Actividades de Seguimiento/Actividad de Seguimiento 2/2025-1 (B1) Matemática B - ATI 1 Fase 1-2025 - ATI 1 - Fase 1 - Actividad de seguimiento 2 - Cursos B-calificaciones.xlsx', 'Actividades de Seguimiento/Actividad de Seguimiento 2/2025-1 (B2) Matemática B - ATI 1 Fase 1-2025 - ATI 1 - Fase 1 - Actividad de seguimiento 2 - Cursos B-calificaciones.xlsx', 'Actividades de Seguimiento/Actividad de Seguimiento 2/2025-1 (B3) Matemática B - ATI 1 Fase 1-2025 - ATI 1 - Fase 1 - Actividad de seguimiento 2 - Cursos B-calificaciones.xlsx', 'Actividades de Seguimiento/Actividad de Seguimiento 2/2025-1 (B4) Matemática B - ATI 1 Fase 1-2025 - ATI 1 - Fase 1 - Actividad de seguimiento 2 - Cursos B-calificaciones.xlsx', 'Actividades de Seguimiento/Actividad de Seguimiento 2/2025-1 (B5) Matemática B - ATI 1 Fase 1-2025 - ATI 1 - Fase 1 - Actividad de seguimiento 2 - Cursos B-calificaciones.xlsx', 'Actividades de Seguimiento/Actividad de Seguimiento 2/2025-1 (B6) Matemática B - ATI 1 Fase 1-2025 - ATI 1 - Fase 1 - Actividad de seguimiento 2 - Cursos B-calificaciones.xlsx', 'Actividades de Seguimiento/Actividad de Seguimiento 2/2025-1 (B7) Matemática B - ATI 1 Fase 1-2025 - ATI 1 - Fase 1 - Actividad de seguimiento 2 - Cursos B-calificaciones.xlsx', 'Actividades de Seguimiento/Actividad de Seguimiento 2/2025-1 (B8) Matemática B - ATI 1 Fase 1-2025 - ATI 1 - Fase 1 - Actividad de seguimiento 2 - Cursos B-calificaciones.xlsx', 'Actividades de Seguimiento/Actividad de Seguimiento 2/2025-1 (B9) Matemática B - ATI 1 Fase 1-2025 - ATI 1 - Fase 1 - Actividad de seguimiento 2 - Cursos B-calificaciones.xlsx', 'Actividades de Seguimiento/Actividad de Seguimiento 2/2025-1 (M1) Matemática - ATI 1 Fase 1-2025 - ATI 1 - Fase 1 - Actividad de seguimiento 2 - Cursos M-calificaciones.xlsx', 'Actividades de Seguimiento/Actividad de Seguimiento 2/2025-1 (M10) Matemática - ATI 1 Fase 1-2025 - ATI 1 - Fase 1 - Actividad de seguimiento 2 - Cursos M-calificaciones.xlsx', 'Actividades de Seguimiento/Actividad de Seguimiento 2/2025-1 (M11) Matemática - ATI 1 Fase 1-2025 - ATI 1 - Fase 1 - Actividad de seguimiento 2 - Cursos M-calificaciones.xlsx', 'Actividades de Seguimiento/Actividad de Seguimiento 2/2025-1 (M12) Matemática - ATI 1 Fase 1-2025 - ATI 1 - Fase 1 - Actividad de seguimiento 2 - Cursos M-calificaciones.xlsx', 'Actividades de Seguimiento/Actividad de Seguimiento 2/2025-1 (M16) Matemática - ATI 1 Fase 1-2025 - ATI 1 - Fase 1 - Actividad de seguimiento 2 - Cursos M-calificaciones.xlsx', 'Actividades de Seguimiento/Actividad de Seguimiento 2/2025-1 (M17) Matemática - ATI 1 Fase 1-2025 - ATI 1 - Fase 1 - Actividad de seguimiento 2 - Cursos M-calificaciones.xlsx', 'Actividades de Seguimiento/Actividad de Seguimiento 2/2025-1 (M2) Matemática - ATI 1 Fase 1-2025 - ATI 1 - Fase 1 - Actividad de seguimiento 2 - Cursos M-calificaciones.xlsx', 'Actividades de Seguimiento/Actividad de Seguimiento 2/2025-1 (M21) Matemática - ATI 1 Fase 1-2025 - ATI 1 - Fase 1 - Actividad de seguimiento 2 - Cursos M-calificaciones.xlsx', 'Actividades de Seguimiento/Actividad de Seguimiento 2/2025-1 (M22) Matemática - ATI 1 Fase 1-2025 - ATI 1 - Fase 1 - Actividad de seguimiento 2 - Cursos M-calificaciones.xlsx', 'Actividades de Seguimiento/Actividad de Seguimiento 2/2025-1 (M23) Matemática - ATI 1 Fase 1-2025 - ATI 1 - Fase 1 - Actividad de seguimiento 2 - Cursos M-calificaciones.xlsx', 'Actividades de Seguimiento/Actividad de Seguimiento 2/2025-1 (M24) Matemática - ATI 1 Fase 1-2025 - ATI 1 - Fase 1 - Actividad de seguimiento 2 - Cursos M-calificaciones.xlsx', 'Actividades de Seguimiento/Actividad de Seguimiento 2/2025-1 (M26) Matemática - ATI 1 Fase 1-2025 - ATI 1 - Fase 1 - Actividad de seguimiento 2 - Cursos M-calificaciones.xlsx', 'Actividades de Seguimiento/Actividad de Seguimiento 2/2025-1 (M27) Matemática - ATI 1 Fase 1-2025 - ATI 1 - Fase 1 - Actividad de seguimiento 2 - Cursos M-calificaciones.xlsx', 'Actividades de Seguimiento/Actividad de Seguimiento 2/2025-1 (M3) Matemática - ATI 1 Fase 1-2025 - ATI 1 - Fase 1 - Actividad de seguimiento 2 - Cursos M-calificaciones.xlsx', 'Actividades de Seguimiento/Actividad de Seguimiento 2/2025-1 (M4) Matemática - ATI 1 Fase 1-2025 - ATI 1 - Fase 1 - Actividad de seguimiento 2 -calificaciones.xlsx', 'Actividades de Seguimiento/Actividad de Seguimiento 2/2025-1 (M8) Matemática - ATI 1 Fase 1-2025 - ATI 1 - Fase 1 - Actividad de seguimiento 2 - Cursos M-calificaciones.xlsx', 'Actividades de Seguimiento/Actividad de Seguimiento 2/2025-1 (M9) Matemática - ATI 1 Fase 1-2025 - ATI 1 - Fase 1 - Actividad de seguimiento 2-calificaciones.xlsx', 'Actividades de Seguimiento/Actividad de Seguimiento 2/ATI 1 Fase 1 - Matemática - Tres Arroyos-2025 - ATI 1 - Fase 1 - Actividad de seguimiento 2 - Cursos M-calificaciones.xlsx', 'Actividades de Seguimiento/Actividad de Seguimiento 3/2025-1 (B1) Matemática B - ATI 1 Fase 1-2025 - ATI 1 - Fase 1 - Actividad de seguimiento 3 - Cursos B-calificaciones.xlsx', 'Actividades de Seguimiento/Actividad de Seguimiento 3/2025-1 (B2) Matemática B - ATI 1 Fase 1-2025 - ATI 1 - Fase 1 - Actividad de seguimiento 3 - Cursos B-calificaciones.xlsx', 'Actividades de Seguimiento/Actividad de Seguimiento 3/2025-1 (B3) Matemática B - ATI 1 Fase 1-2025 - ATI 1 - Fase 1 - Actividad de seguimiento 3 - Cursos B-calificaciones.xlsx', 'Actividades de Seguimiento/Actividad de Seguimiento 3/2025-1 (B4) Matemática B - ATI 1 Fase 1-2025 - ATI 1 - Fase 1 - Actividad de seguimiento 3 - Cursos B-calificaciones.xlsx', 'Actividades de Seguimiento/Actividad de Seguimiento 3/2025-1 (B5) Matemática B - ATI 1 Fase 1-2025 - ATI 1 - Fase 1 - Actividad de seguimiento 3 - Cursos B-calificaciones.xlsx', 'Actividades de Seguimiento/Actividad de Seguimiento 3/2025-1 (B6) Matemática B - ATI 1 Fase 1-2025 - ATI 1 - Fase 1 - Actividad de seguimiento 3 - Cursos B-calificaciones.xlsx', 'Actividades de Seguimiento/Actividad de Seguimiento 3/2025-1 (B7) Matemática B - ATI 1 Fase 1-2025 - ATI 1 - Fase 1 - Actividad de seguimiento 3 - Cursos B-calificaciones.xlsx', 'Actividades de Seguimiento/Actividad de Seguimiento 3/2025-1 (B8) Matemática B - ATI 1 Fase 1-2025 - ATI 1 - Fase 1 - Actividad de seguimiento 3 - Cursos B-calificaciones.xlsx', 'Actividades de Seguimiento/Actividad de Seguimiento 3/2025-1 (B9) Matemática B - ATI 1 Fase 1-2025 - ATI 1 - Fase 1 - Actividad de seguimiento 3 - Cursos B-calificaciones.xlsx', 'Actividades de Seguimiento/Actividad de Seguimiento 3/2025-1 (M1) Matemática - ATI 1 Fase 1-2025 - ATI 1 - Fase 1 - Actividad de seguimiento 3 - Cursos M-calificaciones.xlsx', 'Actividades de Seguimiento/Actividad de Seguimiento 3/2025-1 (M10) Matemática - ATI 1 Fase 1-2025 - ATI 1 - Fase 1 - Actividad de seguimiento 3 - Cursos M-calificaciones.xlsx', 'Actividades de Seguimiento/Actividad de Seguimiento 3/2025-1 (M11) Matemática - ATI 1 Fase 1-2025 - ATI 1 - Fase 1 - Actividad de seguimiento 3 - Cursos M-calificaciones.xlsx', 'Actividades de Seguimiento/Actividad de Seguimiento 3/2025-1 (M12) Matemática - ATI 1 Fase 1-2025 - ATI 1 - Fase 1 - Actividad de seguimiento 3 - Cursos M-calificaciones.xlsx', 'Actividades de Seguimiento/Actividad de Seguimiento 3/2025-1 (M16) Matemática - ATI 1 Fase 1-2025 - ATI 1 - Fase 1 - Actividad de seguimiento 3 - Cursos M-calificaciones.xlsx', 'Actividades de Seguimiento/Actividad de Seguimiento 3/2025-1 (M17) Matemática - ATI 1 Fase 1-2025 - ATI 1 - Fase 1 - Actividad de seguimiento 3 - Cursos M-calificaciones.xlsx', 'Actividades de Seguimiento/Actividad de Seguimiento 3/2025-1 (M2) Matemática - ATI 1 Fase 1-2025 - ATI 1 - Fase 1 - Actividad de seguimiento 3 - Cursos M-calificaciones.xlsx', 'Actividades de Seguimiento/Actividad de Seguimiento 3/2025-1 (M21) Matemática - ATI 1 Fase 1-2025 - ATI 1 - Fase 1 - Actividad de seguimiento 3 - Cursos M-calificaciones.xlsx', 'Actividades de Seguimiento/Actividad de Seguimiento 3/2025-1 (M22) Matemática - ATI 1 Fase 1-2025 - ATI 1 - Fase 1 - Actividad de seguimiento 3 - Cursos M-calificaciones.xlsx', 'Actividades de Seguimiento/Actividad de Seguimiento 3/2025-1 (M23) Matemática - ATI 1 Fase 1-2025 - ATI 1 - Fase 1 - Actividad de seguimiento 3 - Cursos M-calificaciones.xlsx', 'Actividades de Seguimiento/Actividad de Seguimiento 3/2025-1 (M24) Matemática - ATI 1 Fase 1-2025 - ATI 1 - Fase 1 - Actividad de seguimiento 3 - Cursos M-calificaciones.xlsx', 'Actividades de Seguimiento/Actividad de Seguimiento 3/2025-1 (M26) Matemática - ATI 1 Fase 1-2025 - ATI 1 - Fase 1 - Actividad de seguimiento 3 - Cursos M-calificaciones.xlsx', 'Actividades de Seguimiento/Actividad de Seguimiento 3/2025-1 (M27) Matemática - ATI 1 Fase 1-2025 - ATI 1 - Fase 1 - Actividad de seguimiento 3 - Cursos M-calificaciones.xlsx', 'Actividades de Seguimiento/Actividad de Seguimiento 3/2025-1 (M3) Matemática - ATI 1 Fase 1-2025 - ATI 1 - Fase 1 - Actividad de seguimiento 3 - Cursos M-calificaciones.xlsx', 'Actividades de Seguimiento/Actividad de Seguimiento 3/2025-1 (M4) Matemática - ATI 1 Fase 1-2025 - ATI 1 - Fase 1 - Actividad de seguimiento 3 - Cursos M-calificaciones.xlsx', 'Actividades de Seguimiento/Actividad de Seguimiento 3/2025-1 (M8) Matemática - ATI 1 Fase 1-2025 - ATI 1 - Fase 1 - Actividad de seguimiento 3 - Cursos M-calificaciones.xlsx', 'Actividades de Seguimiento/Actividad de Seguimiento 3/2025-1 (M9) Matemática - ATI 1 Fase 1-2025 - ATI 1 - Fase 1 - Actividad de seguimiento 3 - Cursos M-calificaciones.xlsx', 'Actividades de Seguimiento/Actividad de Seguimiento 3/ATI 1 Fase 1 - Matemática - Tres Arroyos-2025 - ATI 1 - Fase 1 - Actividad de seguimiento 3 - Cursos M-calificaciones.xlsx', 'Actividades de Seguimiento/Actividad de Seguimiento 4/2025-1 (M1) Matemática - ATI 1 Fase 1-2025 - ATI 1 - Fase 1 - Actividad de seguimiento 4 - Cursos M-calificaciones.xlsx', 'Actividades de Seguimiento/Actividad de Seguimiento 4/2025-1 (M10) Matemática - ATI 1 Fase 1-2025 - ATI 1 - Fase 1 - Actividad de seguimiento 4 - Cursos M-calificaciones.xlsx', 'Actividades de Seguimiento/Actividad de Seguimiento 4/2025-1 (M11) Matemática - ATI 1 Fase 1-2025 - ATI 1 - Fase 1 - Actividad de seguimiento 4 - Cursos M-calificaciones.xlsx', 'Actividades de Seguimiento/Actividad de Seguimiento 4/2025-1 (M12) Matemática - ATI 1 Fase 1-2025 - ATI 1 - Fase 1 - Actividad de seguimiento 4 - Cursos M-calificaciones.xlsx', 'Actividades de Seguimiento/Actividad de Seguimiento 4/2025-1 (M16) Matemática - ATI 1 Fase 1-2025 - ATI 1 - Fase 1 - Actividad de seguimiento 4 - Cursos M-calificaciones.xlsx', 'Actividades de Seguimiento/Actividad de Seguimiento 4/2025-1 (M17) Matemática - ATI 1 Fase 1-2025 - ATI 1 - Fase 1 - Actividad de seguimiento 4 - Cursos M-calificaciones.xlsx', 'Actividades de Seguimiento/Actividad de Seguimiento 4/2025-1 (M2) Matemática - ATI 1 Fase 1-2025 - ATI 1 - Fase 1 - Actividad de seguimiento 4 - Cursos M-calificaciones.xlsx', 'Actividades de Seguimiento/Actividad de Seguimiento 4/2025-1 (M21) Matemática - ATI 1 Fase 1-2025 - ATI 1 - Fase 1 - Actividad de seguimiento 4 - Cursos M-calificaciones.xlsx', 'Actividades de Seguimiento/Actividad de Seguimiento 4/2025-1 (M22) Matemática - ATI 1 Fase 1-2025 - ATI 1 - Fase 1 - Actividad de seguimiento 4 - Cursos M-calificaciones.xlsx', 'Actividades de Seguimiento/Actividad de Seguimiento 4/2025-1 (M23) Matemática - ATI 1 Fase 1-2025 - ATI 1 - Fase 1 - Actividad de seguimiento 4 - Cursos M-calificaciones.xlsx', 'Actividades de Seguimiento/Actividad de Seguimiento 4/2025-1 (M24) Matemática - ATI 1 Fase 1-2025 - ATI 1 - Fase 1 - Actividad de seguimiento 4 - Cursos M-calificaciones.xlsx', 'Actividades de Seguimiento/Actividad de Seguimiento 4/2025-1 (M26) Matemática - ATI 1 Fase 1-2025 - ATI 1 - Fase 1 - Actividad de seguimiento 4 - Cursos M-calificaciones.xlsx', 'Actividades de Seguimiento/Actividad de Seguimiento 4/2025-1 (M27) Matemática - ATI 1 Fase 1-2025 - ATI 1 - Fase 1 - Actividad de seguimiento 4 - Cursos M-calificaciones.xlsx', 'Actividades de Seguimiento/Actividad de Seguimiento 4/2025-1 (M3) Matemática - ATI 1 Fase 1-2025 - ATI 1 - Fase 1 - Actividad de seguimiento 4 - Cursos M-calificaciones.xlsx', 'Actividades de Seguimiento/Actividad de Seguimiento 4/2025-1 (M4) Matemática - ATI 1 Fase 1-2025 - ATI 1 - Fase 1 - Actividad de seguimiento 4 - Cursos M-calificaciones.xlsx', 'Actividades de Seguimiento/Actividad de Seguimiento 4/2025-1 (M8) Matemática - ATI 1 Fase 1-2025 - ATI 1 - Fase 1 - Actividad de seguimiento 4 - Cursos M-calificaciones.xlsx', 'Actividades de Seguimiento/Actividad de Seguimiento 4/2025-1 (M9) Matemática - ATI 1 Fase 1-2025 - ATI 1 - Fase 1 - Actividad de seguimiento 4 - Cursos M-calificaciones.xlsx', 'Actividades de Seguimiento/Actividad de Seguimiento 4/ATI 1 Fase 1 - Matemática - Tres Arroyos-2025 - ATI 1 - Fase 1 - Actividad de seguimiento 4 - Cursos M-calificaciones.xlsx']\n"
     ]
    }
   ],
   "source": [
    "\n",
    "\n",
    "#armo una lista con todos los excel (todas las comisiones)\n",
    "archivos=[]\n",
    "for i in range(1,5):\n",
    "    archivos_en_carpeta=os.listdir(f\"Actividades de Seguimiento/Actividad de Seguimiento {i}\")\n",
    "    for archivo in archivos_en_carpeta:\n",
    "        if archivo.endswith(\".xlsx\"):\n",
    "            archivos.append(f\"Actividades de Seguimiento/Actividad de Seguimiento {i}/{archivo}\")\n",
    "            \n"
   ]
  },
  {
   "cell_type": "code",
   "execution_count": null,
   "id": "55efb572",
   "metadata": {},
   "outputs": [],
   "source": [
    "df=pd.read_excel(archivos[0])\n",
    "print(df.info)"
   ]
  },
  {
   "cell_type": "code",
   "execution_count": 8,
   "id": "60f1295b",
   "metadata": {},
   "outputs": [
    {
     "name": "stdout",
     "output_type": "stream",
     "text": [
      "4326\n",
      "3981\n"
     ]
    }
   ],
   "source": [
    "df_anon=pd.read_excel(\"Actividades de Seguimiento/Ati_anonimo.xlsx\")\n",
    "print(len(df_anon))\n",
    "df_anon_unicos=df_anon.drop_duplicates(subset=['DNI','COMISION'],keep=False)\n",
    "print(len(df_anon_unicos))\n"
   ]
  },
  {
   "cell_type": "code",
   "execution_count": null,
   "id": "f7fcaa21",
   "metadata": {},
   "outputs": [
    {
     "name": "stderr",
     "output_type": "stream",
     "text": [
      "C:\\Users\\carli\\AppData\\Local\\Temp\\ipykernel_14404\\3774745445.py:26: FutureWarning: The behavior of DataFrame concatenation with empty or all-NA entries is deprecated. In a future version, this will no longer exclude empty or all-NA columns when determining the result dtypes. To retain the old behavior, exclude the relevant entries before the concat operation.\n",
      "  df_nuevo=pd.concat([df_nuevo,df_i],ignore_index=True)\n"
     ]
    },
    {
     "name": "stdout",
     "output_type": "stream",
     "text": [
      "No se encontró la comisión en el archivo: Actividades de Seguimiento/Actividad de Seguimiento 2/ATI 1 Fase 1 - Matemática - Tres Arroyos-2025 - ATI 1 - Fase 1 - Actividad de seguimiento 2 - Cursos M-calificaciones.xlsx\n",
      "No se encontró la comisión en el archivo: Actividades de Seguimiento/Actividad de Seguimiento 3/ATI 1 Fase 1 - Matemática - Tres Arroyos-2025 - ATI 1 - Fase 1 - Actividad de seguimiento 3 - Cursos M-calificaciones.xlsx\n",
      "No se encontró la comisión en el archivo: Actividades de Seguimiento/Actividad de Seguimiento 4/ATI 1 Fase 1 - Matemática - Tres Arroyos-2025 - ATI 1 - Fase 1 - Actividad de seguimiento 4 - Cursos M-calificaciones.xlsx\n",
      "        DNI COMISION\n",
      "0  46261780       B1\n",
      "1  39163210       B1\n",
      "2  47198769       B1\n",
      "3  47638017       B1\n",
      "4  47743920       B1\n",
      "9204\n",
      "2907\n"
     ]
    }
   ],
   "source": [
    "df_nuevo=pd.DataFrame(columns=['DNI','COMISION','ACTIVIDAD 1','ACTIVIDAD 2','ACTIVIDAD 3','ACTIVIDAD 4'])\n",
    "for i in archivos:\n",
    "    df_i=pd.read_excel(i)[['Número de ID','Calicación/10,00']]\n",
    "    indices_borrar=[]\n",
    "    for index, row in df_i.iterrows():\n",
    "        dni=row['Número de ID']\n",
    "        valor=str(dni)\n",
    "        match=re.search(r'[a-zA-Z]', valor)\n",
    "        if match:\n",
    "            indices_borrar.append(index)\n",
    "           # print(f\"en {i} hay un dni, {dni}, en la fila {index}\")\n",
    "    \n",
    "    df_i.drop(indices_borrar)\n",
    "    df_i['Número de ID'] = df_i['Número de ID'].astype(str).str.replace('.0','')\n",
    "    df_i['Número de ID']=pd.to_numeric(df_i['Número de ID'], errors='coerce').astype('Int64')\n",
    "\n",
    "        \n",
    "\n",
    "    \n",
    "    match=re.search(r'\\(([^)]+)\\)',i)\n",
    "    if match:\n",
    "        comision=match.group(1)\n",
    "        #print(comision)\n",
    "        df_i['COMISION']=comision\n",
    "        df_i.columns=['DNI','COMISION']\n",
    "        df_nuevo=pd.concat([df_nuevo,df_i],ignore_index=True)\n",
    "        #print(df_nuevo.head())\n",
    "        #print(df_i.head())\n",
    "        \n",
    "    else:\n",
    "        print(f\"No se encontró la comisión en el archivo: {i}\")\n",
    "print(df_nuevo.head())\n",
    "print(len(df_nuevo))\n",
    "\n",
    "df_nuevo_unicos=df_nuevo.drop_duplicates()\n",
    "print(len(df_nuevo_unicos))\n",
    "  "
   ]
  }
 ],
 "metadata": {
  "kernelspec": {
   "display_name": "Python 3",
   "language": "python",
   "name": "python3"
  },
  "language_info": {
   "codemirror_mode": {
    "name": "ipython",
    "version": 3
   },
   "file_extension": ".py",
   "mimetype": "text/x-python",
   "name": "python",
   "nbconvert_exporter": "python",
   "pygments_lexer": "ipython3",
   "version": "3.13.1"
  }
 },
 "nbformat": 4,
 "nbformat_minor": 5
}
